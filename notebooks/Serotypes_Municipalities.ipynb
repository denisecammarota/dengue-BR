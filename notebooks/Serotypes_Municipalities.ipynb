{
 "cells": [
  {
   "cell_type": "markdown",
   "id": "1a0bae9b",
   "metadata": {},
   "source": [
    "# Importing libraries and appending paths "
   ]
  },
  {
   "cell_type": "code",
   "execution_count": 1,
   "id": "1b7df5b0",
   "metadata": {},
   "outputs": [],
   "source": [
    "import numpy as np\n",
    "import pandas as pd\n",
    "import matplotlib.pyplot as plt \n",
    "import seaborn as sns\n",
    "import sys\n",
    "import plotly.graph_objects as go"
   ]
  },
  {
   "cell_type": "code",
   "execution_count": 2,
   "id": "304b8d05",
   "metadata": {},
   "outputs": [],
   "source": [
    "sys.path.append('..')"
   ]
  },
  {
   "cell_type": "markdown",
   "id": "49ab8568",
   "metadata": {},
   "source": [
    "# Importing and padding serotype data"
   ]
  },
  {
   "cell_type": "code",
   "execution_count": 3,
   "id": "e52d4286",
   "metadata": {},
   "outputs": [],
   "source": [
    "file_s = '../Data/dengufe_BR_serotypes.csv'\n",
    "s_data = pd.read_csv(file_s, delimiter = ';')"
   ]
  },
  {
   "cell_type": "code",
   "execution_count": 4,
   "id": "e9107d57",
   "metadata": {},
   "outputs": [],
   "source": [
    "s_data = s_data.groupby(['YEAR','ID_MUNICIP','SOROTIPO'])['NUMBER'].sum()\n",
    "s_data = s_data.to_frame(name = 'CASES').reset_index()"
   ]
  },
  {
   "cell_type": "code",
   "execution_count": 5,
   "id": "e9d15e94",
   "metadata": {},
   "outputs": [],
   "source": [
    "years = s_data['YEAR'].unique()\n",
    "muns = s_data['ID_MUNICIP'].unique()\n",
    "serotypes = s_data['SOROTIPO'].unique()"
   ]
  },
  {
   "cell_type": "code",
   "execution_count": 6,
   "id": "4b970aa2",
   "metadata": {},
   "outputs": [],
   "source": [
    "years_df = []\n",
    "muns_df = []\n",
    "serotypes_df = []\n",
    "cases_df = []"
   ]
  },
  {
   "cell_type": "code",
   "execution_count": 7,
   "id": "2b1c1590",
   "metadata": {},
   "outputs": [],
   "source": [
    "for year in years:\n",
    "    for mun in muns:\n",
    "        for serotype in serotypes:\n",
    "            years_df.append(year)\n",
    "            muns_df.append(mun)\n",
    "            serotypes_df.append(serotype)\n",
    "            filt_tmp = ((s_data['ID_MUNICIP'] == mun) & (s_data['YEAR'] == year) & (s_data['SOROTIPO'] == serotype))\n",
    "            s_tmp = s_data[filt_tmp]\n",
    "            if(s_tmp.empty):\n",
    "                cases_df.append(0)\n",
    "            else:\n",
    "                cases_df.append(s_tmp.iloc[0]['CASES'])"
   ]
  },
  {
   "cell_type": "code",
   "execution_count": 8,
   "id": "55f57672",
   "metadata": {},
   "outputs": [],
   "source": [
    "df_total = pd.DataFrame(list(zip(years_df, muns_df, serotypes_df, cases_df)),\n",
    "                   columns =['YEAR', 'ID_MUNICIP', 'SEROTYPES', 'CASES'])"
   ]
  },
  {
   "cell_type": "code",
   "execution_count": 9,
   "id": "c2e6345e",
   "metadata": {},
   "outputs": [
    {
     "data": {
      "text/html": [
       "<div>\n",
       "<style scoped>\n",
       "    .dataframe tbody tr th:only-of-type {\n",
       "        vertical-align: middle;\n",
       "    }\n",
       "\n",
       "    .dataframe tbody tr th {\n",
       "        vertical-align: top;\n",
       "    }\n",
       "\n",
       "    .dataframe thead th {\n",
       "        text-align: right;\n",
       "    }\n",
       "</style>\n",
       "<table border=\"1\" class=\"dataframe\">\n",
       "  <thead>\n",
       "    <tr style=\"text-align: right;\">\n",
       "      <th></th>\n",
       "      <th>YEAR</th>\n",
       "      <th>ID_MUNICIP</th>\n",
       "      <th>SEROTYPES</th>\n",
       "      <th>CASES</th>\n",
       "    </tr>\n",
       "  </thead>\n",
       "  <tbody>\n",
       "    <tr>\n",
       "      <th>0</th>\n",
       "      <td>2007</td>\n",
       "      <td>110001</td>\n",
       "      <td></td>\n",
       "      <td>46</td>\n",
       "    </tr>\n",
       "    <tr>\n",
       "      <th>1</th>\n",
       "      <td>2007</td>\n",
       "      <td>110001</td>\n",
       "      <td>1</td>\n",
       "      <td>0</td>\n",
       "    </tr>\n",
       "    <tr>\n",
       "      <th>2</th>\n",
       "      <td>2007</td>\n",
       "      <td>110001</td>\n",
       "      <td>3</td>\n",
       "      <td>0</td>\n",
       "    </tr>\n",
       "    <tr>\n",
       "      <th>3</th>\n",
       "      <td>2007</td>\n",
       "      <td>110001</td>\n",
       "      <td>4</td>\n",
       "      <td>0</td>\n",
       "    </tr>\n",
       "    <tr>\n",
       "      <th>4</th>\n",
       "      <td>2007</td>\n",
       "      <td>110001</td>\n",
       "      <td>2</td>\n",
       "      <td>0</td>\n",
       "    </tr>\n",
       "    <tr>\n",
       "      <th>...</th>\n",
       "      <td>...</td>\n",
       "      <td>...</td>\n",
       "      <td>...</td>\n",
       "      <td>...</td>\n",
       "    </tr>\n",
       "    <tr>\n",
       "      <th>389020</th>\n",
       "      <td>2021</td>\n",
       "      <td>432290</td>\n",
       "      <td></td>\n",
       "      <td>2</td>\n",
       "    </tr>\n",
       "    <tr>\n",
       "      <th>389021</th>\n",
       "      <td>2021</td>\n",
       "      <td>432290</td>\n",
       "      <td>1</td>\n",
       "      <td>0</td>\n",
       "    </tr>\n",
       "    <tr>\n",
       "      <th>389022</th>\n",
       "      <td>2021</td>\n",
       "      <td>432290</td>\n",
       "      <td>3</td>\n",
       "      <td>0</td>\n",
       "    </tr>\n",
       "    <tr>\n",
       "      <th>389023</th>\n",
       "      <td>2021</td>\n",
       "      <td>432290</td>\n",
       "      <td>4</td>\n",
       "      <td>0</td>\n",
       "    </tr>\n",
       "    <tr>\n",
       "      <th>389024</th>\n",
       "      <td>2021</td>\n",
       "      <td>432290</td>\n",
       "      <td>2</td>\n",
       "      <td>0</td>\n",
       "    </tr>\n",
       "  </tbody>\n",
       "</table>\n",
       "<p>389025 rows × 4 columns</p>\n",
       "</div>"
      ],
      "text/plain": [
       "        YEAR  ID_MUNICIP SEROTYPES  CASES\n",
       "0       2007      110001               46\n",
       "1       2007      110001         1      0\n",
       "2       2007      110001         3      0\n",
       "3       2007      110001         4      0\n",
       "4       2007      110001         2      0\n",
       "...      ...         ...       ...    ...\n",
       "389020  2021      432290                2\n",
       "389021  2021      432290         1      0\n",
       "389022  2021      432290         3      0\n",
       "389023  2021      432290         4      0\n",
       "389024  2021      432290         2      0\n",
       "\n",
       "[389025 rows x 4 columns]"
      ]
     },
     "execution_count": 9,
     "metadata": {},
     "output_type": "execute_result"
    }
   ],
   "source": [
    "df_total"
   ]
  },
  {
   "cell_type": "markdown",
   "id": "93b77dbd",
   "metadata": {},
   "source": [
    "## Cases, tests and ratio per municipality for serotype\n",
    "That is, percentage of positive cases that were tested for serotype 1,2,3 or 4. That is, **cases tested/total cases**."
   ]
  },
  {
   "cell_type": "code",
   "execution_count": 10,
   "id": "681aae49",
   "metadata": {},
   "outputs": [],
   "source": [
    "# total tests per municipality per year\n",
    "df_res = df_total.copy()\n",
    "filt_res = (df_res['SEROTYPES'] != ' ')\n",
    "df_res = df_res[filt_res]\n",
    "df_res = df_res.groupby(['YEAR','ID_MUNICIP'])['CASES'].sum()\n",
    "df_res = df_res.to_frame(name = 'TESTS').reset_index()\n",
    "df_tmp = df_total.copy()\n",
    "df_tmp = df_tmp.groupby(['YEAR','ID_MUNICIP'])['CASES'].sum()\n",
    "df_tmp = df_tmp.to_frame(name = 'CASES').reset_index()\n",
    "df_res['CASES'] = df_tmp['CASES']\n",
    "df_res['RATIO'] = df_res['TESTS']/df_res['CASES']"
   ]
  },
  {
   "cell_type": "code",
   "execution_count": 11,
   "id": "571e5576",
   "metadata": {},
   "outputs": [],
   "source": [
    "df_res = df_res.dropna()"
   ]
  },
  {
   "cell_type": "markdown",
   "id": "cbb235a3",
   "metadata": {},
   "source": [
    "## Percentage of tests per municipality for serotype\n",
    "That is, percentage of positive cases that were tested for serotype 1,2,3 or 4. That is, **cases tested/total cases**."
   ]
  },
  {
   "cell_type": "code",
   "execution_count": 12,
   "id": "4b4c1ca9",
   "metadata": {},
   "outputs": [],
   "source": [
    "df_res_ratio = df_res.copy()\n",
    "df_res_ratio = df_res_ratio.drop(columns = ['TESTS','CASES'])\n",
    "df_res_ratio = df_res_ratio.pivot(index='YEAR', columns='ID_MUNICIP').droplevel(0, axis=1)"
   ]
  },
  {
   "cell_type": "code",
   "execution_count": 13,
   "id": "c0f580da",
   "metadata": {},
   "outputs": [],
   "source": [
    "df_stats_ratio = pd.DataFrame()\n",
    "df_stats_ratio['MEAN'] = df_res_ratio.mean(axis = 0)\n",
    "df_stats_ratio['STD'] = df_res_ratio.std(axis = 0)\n",
    "df_stats_ratio['STD/MEAN'] = df_res_ratio.std(axis = 0)/df_res_ratio.mean(axis = 0)\n",
    "df_stats_ratio['MAX'] = df_res_ratio.max(axis = 0)\n",
    "df_stats_ratio['MIN'] = df_res_ratio.min(axis = 0)"
   ]
  },
  {
   "cell_type": "code",
   "execution_count": 14,
   "id": "1e5ec1bb",
   "metadata": {},
   "outputs": [],
   "source": [
    "df_stats_ratio = df_stats_ratio.dropna()"
   ]
  },
  {
   "cell_type": "code",
   "execution_count": 24,
   "id": "b3cd50fe",
   "metadata": {},
   "outputs": [],
   "source": [
    "df_filter = df_stats_ratio.copy()\n",
    "df_filter = df_filter[df_filter['MIN'] != 0]"
   ]
  },
  {
   "cell_type": "code",
   "execution_count": 26,
   "id": "6d12f3ac",
   "metadata": {},
   "outputs": [
    {
     "data": {
      "text/html": [
       "<div>\n",
       "<style scoped>\n",
       "    .dataframe tbody tr th:only-of-type {\n",
       "        vertical-align: middle;\n",
       "    }\n",
       "\n",
       "    .dataframe tbody tr th {\n",
       "        vertical-align: top;\n",
       "    }\n",
       "\n",
       "    .dataframe thead th {\n",
       "        text-align: right;\n",
       "    }\n",
       "</style>\n",
       "<table border=\"1\" class=\"dataframe\">\n",
       "  <thead>\n",
       "    <tr style=\"text-align: right;\">\n",
       "      <th></th>\n",
       "      <th>MEAN</th>\n",
       "      <th>STD</th>\n",
       "      <th>STD/MEAN</th>\n",
       "      <th>MAX</th>\n",
       "      <th>MIN</th>\n",
       "    </tr>\n",
       "    <tr>\n",
       "      <th>ID_MUNICIP</th>\n",
       "      <th></th>\n",
       "      <th></th>\n",
       "      <th></th>\n",
       "      <th></th>\n",
       "      <th></th>\n",
       "    </tr>\n",
       "  </thead>\n",
       "  <tbody>\n",
       "    <tr>\n",
       "      <th>520870</th>\n",
       "      <td>0.010736</td>\n",
       "      <td>0.007660</td>\n",
       "      <td>0.713432</td>\n",
       "      <td>0.028322</td>\n",
       "      <td>0.001675</td>\n",
       "    </tr>\n",
       "    <tr>\n",
       "      <th>530010</th>\n",
       "      <td>0.011684</td>\n",
       "      <td>0.009461</td>\n",
       "      <td>0.809731</td>\n",
       "      <td>0.032349</td>\n",
       "      <td>0.002210</td>\n",
       "    </tr>\n",
       "    <tr>\n",
       "      <th>240810</th>\n",
       "      <td>0.005264</td>\n",
       "      <td>0.005326</td>\n",
       "      <td>1.011716</td>\n",
       "      <td>0.021739</td>\n",
       "      <td>0.000875</td>\n",
       "    </tr>\n",
       "    <tr>\n",
       "      <th>230440</th>\n",
       "      <td>0.003171</td>\n",
       "      <td>0.003333</td>\n",
       "      <td>1.051072</td>\n",
       "      <td>0.009889</td>\n",
       "      <td>0.000066</td>\n",
       "    </tr>\n",
       "    <tr>\n",
       "      <th>310620</th>\n",
       "      <td>0.010712</td>\n",
       "      <td>0.011935</td>\n",
       "      <td>1.114167</td>\n",
       "      <td>0.046980</td>\n",
       "      <td>0.000957</td>\n",
       "    </tr>\n",
       "    <tr>\n",
       "      <th>330455</th>\n",
       "      <td>0.010669</td>\n",
       "      <td>0.014366</td>\n",
       "      <td>1.346479</td>\n",
       "      <td>0.059553</td>\n",
       "      <td>0.000250</td>\n",
       "    </tr>\n",
       "    <tr>\n",
       "      <th>354340</th>\n",
       "      <td>0.040425</td>\n",
       "      <td>0.055685</td>\n",
       "      <td>1.377482</td>\n",
       "      <td>0.170492</td>\n",
       "      <td>0.000587</td>\n",
       "    </tr>\n",
       "    <tr>\n",
       "      <th>261160</th>\n",
       "      <td>0.004747</td>\n",
       "      <td>0.007254</td>\n",
       "      <td>1.527912</td>\n",
       "      <td>0.029367</td>\n",
       "      <td>0.000284</td>\n",
       "    </tr>\n",
       "    <tr>\n",
       "      <th>354980</th>\n",
       "      <td>0.064883</td>\n",
       "      <td>0.102619</td>\n",
       "      <td>1.581598</td>\n",
       "      <td>0.333333</td>\n",
       "      <td>0.001736</td>\n",
       "    </tr>\n",
       "    <tr>\n",
       "      <th>172100</th>\n",
       "      <td>0.012695</td>\n",
       "      <td>0.023366</td>\n",
       "      <td>1.840645</td>\n",
       "      <td>0.086031</td>\n",
       "      <td>0.000462</td>\n",
       "    </tr>\n",
       "  </tbody>\n",
       "</table>\n",
       "</div>"
      ],
      "text/plain": [
       "                MEAN       STD  STD/MEAN       MAX       MIN\n",
       "ID_MUNICIP                                                  \n",
       "520870      0.010736  0.007660  0.713432  0.028322  0.001675\n",
       "530010      0.011684  0.009461  0.809731  0.032349  0.002210\n",
       "240810      0.005264  0.005326  1.011716  0.021739  0.000875\n",
       "230440      0.003171  0.003333  1.051072  0.009889  0.000066\n",
       "310620      0.010712  0.011935  1.114167  0.046980  0.000957\n",
       "330455      0.010669  0.014366  1.346479  0.059553  0.000250\n",
       "354340      0.040425  0.055685  1.377482  0.170492  0.000587\n",
       "261160      0.004747  0.007254  1.527912  0.029367  0.000284\n",
       "354980      0.064883  0.102619  1.581598  0.333333  0.001736\n",
       "172100      0.012695  0.023366  1.840645  0.086031  0.000462"
      ]
     },
     "execution_count": 26,
     "metadata": {},
     "output_type": "execute_result"
    }
   ],
   "source": [
    "df_filter.sort_values(['STD/MEAN'],ascending = [True])"
   ]
  },
  {
   "cell_type": "markdown",
   "id": "4d6f75cd",
   "metadata": {},
   "source": [
    "## Saving because this takes a lot to process"
   ]
  },
  {
   "cell_type": "code",
   "execution_count": 20,
   "id": "4020496b",
   "metadata": {},
   "outputs": [],
   "source": [
    "df_stats_ratio.to_csv('../Data/dengue_municipality_tests.csv')"
   ]
  },
  {
   "cell_type": "code",
   "execution_count": null,
   "id": "2c7f592c",
   "metadata": {},
   "outputs": [],
   "source": []
  },
  {
   "cell_type": "code",
   "execution_count": null,
   "id": "fe287761",
   "metadata": {},
   "outputs": [],
   "source": []
  },
  {
   "cell_type": "code",
   "execution_count": null,
   "id": "7557801a",
   "metadata": {},
   "outputs": [],
   "source": []
  },
  {
   "cell_type": "code",
   "execution_count": null,
   "id": "b380f68d",
   "metadata": {},
   "outputs": [],
   "source": []
  }
 ],
 "metadata": {
  "kernelspec": {
   "display_name": "Python 3 (ipykernel)",
   "language": "python",
   "name": "python3"
  },
  "language_info": {
   "codemirror_mode": {
    "name": "ipython",
    "version": 3
   },
   "file_extension": ".py",
   "mimetype": "text/x-python",
   "name": "python",
   "nbconvert_exporter": "python",
   "pygments_lexer": "ipython3",
   "version": "3.8.16"
  }
 },
 "nbformat": 4,
 "nbformat_minor": 5
}
