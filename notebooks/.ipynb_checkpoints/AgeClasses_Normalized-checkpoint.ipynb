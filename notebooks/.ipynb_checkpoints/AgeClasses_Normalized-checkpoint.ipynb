{
 "cells": [
  {
   "cell_type": "markdown",
   "id": "9c4c0a54",
   "metadata": {},
   "source": [
    "# Calculating ages of infection (normalized and not normalized)"
   ]
  },
  {
   "cell_type": "markdown",
   "id": "efc91940",
   "metadata": {},
   "source": [
    "## Importing libraries and paths"
   ]
  },
  {
   "cell_type": "code",
   "execution_count": 1,
   "id": "baa557bf",
   "metadata": {},
   "outputs": [],
   "source": [
    "import numpy as np\n",
    "import pandas as pd\n",
    "import matplotlib.pyplot as plt \n",
    "import seaborn as sns\n",
    "import sys\n",
    "import plotly.graph_objects as go"
   ]
  },
  {
   "cell_type": "code",
   "execution_count": 2,
   "id": "c5dfb473",
   "metadata": {},
   "outputs": [],
   "source": [
    "sys.path.append('..')"
   ]
  },
  {
   "cell_type": "markdown",
   "id": "f68b7cf8",
   "metadata": {},
   "source": [
    "## Loading cases with ages data from Python"
   ]
  },
  {
   "cell_type": "code",
   "execution_count": 3,
   "id": "04cb18a3",
   "metadata": {},
   "outputs": [],
   "source": [
    "file_age = '../Data/dengue_BR_ageclasses.csv'\n",
    "age_data = pd.read_csv(file_age, delimiter = ';')\n",
    "age_data = age_data.dropna(axis = 0)\n",
    "age_data = age_data.drop(columns = ['Unnamed: 0'])"
   ]
  },
  {
   "cell_type": "markdown",
   "id": "49d858a5",
   "metadata": {},
   "source": [
    "## Age groups from TABNET and municipalities under analysis"
   ]
  },
  {
   "cell_type": "code",
   "execution_count": 37,
   "id": "18be9cbf",
   "metadata": {},
   "outputs": [],
   "source": [
    "age_groups = np.array([0,4,9,14,19,29,39,49,59,69,79,120]) # age groups of tabnet datasus\n",
    "#municipalities = [355030,330455,520870,530010,230440,310620,354340,354980]\n",
    "municipalities = [355030]"
   ]
  },
  {
   "cell_type": "markdown",
   "id": "996aca2d",
   "metadata": {},
   "source": [
    "## Looping for municipalities and calculating the normalized mean"
   ]
  },
  {
   "cell_type": "code",
   "execution_count": 225,
   "id": "59bade3d",
   "metadata": {},
   "outputs": [
    {
     "name": "stdout",
     "output_type": "stream",
     "text": [
      "     NU_ANO  age_range   NU_IDADE_N\n",
      "0      2007     (0, 4]     6.725441\n",
      "1      2007     (4, 9]    53.421796\n",
      "2      2007    (9, 14]   191.583891\n",
      "3      2007   (14, 19]   437.224558\n",
      "4      2007   (19, 29]  3984.901043\n",
      "..      ...        ...          ...\n",
      "159    2021   (39, 49]  9862.780614\n",
      "160    2021   (49, 59]  8242.153695\n",
      "161    2021   (59, 69]  4209.157434\n",
      "162    2021   (69, 79]  1400.697825\n",
      "163    2021  (79, 120]   226.888711\n",
      "\n",
      "[164 rows x 3 columns]\n"
     ]
    },
    {
     "name": "stderr",
     "output_type": "stream",
     "text": [
      "C:\\Users\\denise.cammarota\\AppData\\Local\\Temp\\ipykernel_4416\\3955882203.py:21: SettingWithCopyWarning: \n",
      "A value is trying to be set on a copy of a slice from a DataFrame.\n",
      "Try using .loc[row_indexer,col_indexer] = value instead\n",
      "\n",
      "See the caveats in the documentation: https://pandas.pydata.org/pandas-docs/stable/user_guide/indexing.html#returning-a-view-versus-a-copy\n",
      "  sp_age_data['NU_IDADE_N'] = sp_age_data['NU_IDADE_N'].astype(float)\n"
     ]
    }
   ],
   "source": [
    "df_total = pd.DataFrame()\n",
    "for id_municipality in municipalities:\n",
    "    # opening datasus tabnet file \n",
    "    file_sus = '../Data/Data_PopMun/TABNET/pop_pyramid_'+str(id_municipality)+'.csv'\n",
    "    sus_data = pd.read_csv(file_sus, delimiter = ';')\n",
    "    sus_data = sus_data[:-1]\n",
    "    sus_data_tmp = sus_data.iloc[:,1:]\n",
    "    sus_data_tmp = sus_data_tmp.div(sus_data_tmp.sum(axis=0),axis=1)\n",
    "    sus_data.iloc[:,1:] = sus_data_tmp\n",
    "    sus_data_stacked = sus_data.drop(columns = ['Faixa Etaria 1'])\n",
    "    sus_data_stacked = sus_data_stacked.stack().reset_index(name = 'PROPS')\n",
    "    sus_data_stacked = sus_data_stacked.sort_values(['level_1','level_0'])\n",
    "    sus_data_stacked = sus_data_stacked.reset_index()\n",
    "    # filtering for the municipality we are working with\n",
    "    sp_age_data = age_data[age_data['ID_MUNICIP'] == id_municipality] \n",
    "    sp_age_mean = sp_age_data.copy()\n",
    "    sp_age_mean = sp_age_mean.groupby(['NU_ANO'])['NU_IDADE_N'].mean()\n",
    "    sp_age_mean = sp_age_mean.to_frame(name = 'MEAN AGE').reset_index()\n",
    "    sp_age_mean = sp_age_mean[~sp_age_mean['NU_ANO'].isin([2022])]\n",
    "    years = sp_age_data['NU_ANO']\n",
    "    sp_age_data['NU_IDADE_N'] = sp_age_data['NU_IDADE_N'].astype(float)\n",
    "    sp_age_data = sp_age_data.groupby(['NU_ANO','age_range'])['NU_IDADE_N'].sum()\n",
    "    sp_age_data = sp_age_data.to_frame().reset_index()\n",
    "    sp_age_data['extra_sort'] = sp_age_data['age_range'].apply(lambda st: st[st.find(\"(\")+1:st.find(\",\")])\n",
    "    sp_age_data['extra_sort'] = sp_age_data['extra_sort'].astype(int)\n",
    "    sp_age_data = sp_age_data.sort_values(by = ['NU_ANO','extra_sort'])\n",
    "    sp_age_data = sp_age_data.reset_index()\n",
    "    sp_age_data = sp_age_data.drop(columns = ['index','extra_sort'])\n",
    "    sus_data_stacked = sus_data_stacked.drop(21)\n",
    "    sp_age_data['NU_IDADE_N'] = sp_age_data['NU_IDADE_N']*sus_data_stacked['PROPS']\n",
    "    print(sp_age_data)"
   ]
  }
 ],
 "metadata": {
  "kernelspec": {
   "display_name": "Python 3 (ipykernel)",
   "language": "python",
   "name": "python3"
  },
  "language_info": {
   "codemirror_mode": {
    "name": "ipython",
    "version": 3
   },
   "file_extension": ".py",
   "mimetype": "text/x-python",
   "name": "python",
   "nbconvert_exporter": "python",
   "pygments_lexer": "ipython3",
   "version": "3.10.9"
  }
 },
 "nbformat": 4,
 "nbformat_minor": 5
}
