{
 "cells": [
  {
   "cell_type": "markdown",
   "id": "1a0bae9b",
   "metadata": {},
   "source": [
    "# Importing libraries and appending paths "
   ]
  },
  {
   "cell_type": "code",
   "execution_count": 28,
   "id": "1b7df5b0",
   "metadata": {},
   "outputs": [],
   "source": [
    "import numpy as np\n",
    "import pandas as pd\n",
    "import matplotlib.pyplot as plt \n",
    "import seaborn as sns\n",
    "import sys\n",
    "import plotly.graph_objects as go"
   ]
  },
  {
   "cell_type": "code",
   "execution_count": 29,
   "id": "304b8d05",
   "metadata": {},
   "outputs": [],
   "source": [
    "sys.path.append('..')"
   ]
  },
  {
   "cell_type": "markdown",
   "id": "49ab8568",
   "metadata": {},
   "source": [
    "# Importing and padding serotype data"
   ]
  },
  {
   "cell_type": "code",
   "execution_count": 30,
   "id": "e52d4286",
   "metadata": {},
   "outputs": [],
   "source": [
    "file_s = '../Data/dengue_BR_serotypes.csv'\n",
    "s_data = pd.read_csv(file_s, delimiter = ';')"
   ]
  },
  {
   "cell_type": "code",
   "execution_count": 31,
   "id": "e9107d57",
   "metadata": {},
   "outputs": [],
   "source": [
    "s_data = s_data.groupby(['YEAR','ID_MUNICIP','SOROTIPO'])['NUMBER'].sum()\n",
    "s_data = s_data.to_frame(name = 'CASES').reset_index()"
   ]
  },
  {
   "cell_type": "code",
   "execution_count": 32,
   "id": "e9d15e94",
   "metadata": {},
   "outputs": [],
   "source": [
    "years = s_data['YEAR'].unique()\n",
    "muns = s_data['ID_MUNICIP'].unique()\n",
    "serotypes = s_data['SOROTIPO'].unique()"
   ]
  },
  {
   "cell_type": "code",
   "execution_count": 33,
   "id": "4b970aa2",
   "metadata": {},
   "outputs": [],
   "source": [
    "years_df = []\n",
    "muns_df = []\n",
    "serotypes_df = []\n",
    "cases_df = []"
   ]
  },
  {
   "cell_type": "code",
   "execution_count": 34,
   "id": "2b1c1590",
   "metadata": {},
   "outputs": [],
   "source": [
    "for year in years:\n",
    "    for mun in muns:\n",
    "        for serotype in serotypes:\n",
    "            years_df.append(year)\n",
    "            muns_df.append(mun)\n",
    "            serotypes_df.append(serotype)\n",
    "            filt_tmp = ((s_data['ID_MUNICIP'] == mun) & (s_data['YEAR'] == year) & (s_data['SOROTIPO'] == serotype))\n",
    "            s_tmp = s_data[filt_tmp]\n",
    "            if(s_tmp.empty):\n",
    "                cases_df.append(0)\n",
    "            else:\n",
    "                cases_df.append(s_tmp.iloc[0]['CASES'])"
   ]
  },
  {
   "cell_type": "code",
   "execution_count": 35,
   "id": "55f57672",
   "metadata": {},
   "outputs": [],
   "source": [
    "df_total = pd.DataFrame(list(zip(years_df, muns_df, serotypes_df, cases_df)),\n",
    "                   columns =['YEAR', 'ID_MUNICIP', 'SEROTYPES', 'CASES'])"
   ]
  },
  {
   "cell_type": "code",
   "execution_count": 36,
   "id": "c2e6345e",
   "metadata": {},
   "outputs": [
    {
     "data": {
      "text/html": [
       "<div>\n",
       "<style scoped>\n",
       "    .dataframe tbody tr th:only-of-type {\n",
       "        vertical-align: middle;\n",
       "    }\n",
       "\n",
       "    .dataframe tbody tr th {\n",
       "        vertical-align: top;\n",
       "    }\n",
       "\n",
       "    .dataframe thead th {\n",
       "        text-align: right;\n",
       "    }\n",
       "</style>\n",
       "<table border=\"1\" class=\"dataframe\">\n",
       "  <thead>\n",
       "    <tr style=\"text-align: right;\">\n",
       "      <th></th>\n",
       "      <th>YEAR</th>\n",
       "      <th>ID_MUNICIP</th>\n",
       "      <th>SEROTYPES</th>\n",
       "      <th>CASES</th>\n",
       "    </tr>\n",
       "  </thead>\n",
       "  <tbody>\n",
       "    <tr>\n",
       "      <th>0</th>\n",
       "      <td>2007</td>\n",
       "      <td>110001</td>\n",
       "      <td></td>\n",
       "      <td>46</td>\n",
       "    </tr>\n",
       "    <tr>\n",
       "      <th>1</th>\n",
       "      <td>2007</td>\n",
       "      <td>110001</td>\n",
       "      <td>1</td>\n",
       "      <td>0</td>\n",
       "    </tr>\n",
       "    <tr>\n",
       "      <th>2</th>\n",
       "      <td>2007</td>\n",
       "      <td>110001</td>\n",
       "      <td>3</td>\n",
       "      <td>0</td>\n",
       "    </tr>\n",
       "    <tr>\n",
       "      <th>3</th>\n",
       "      <td>2007</td>\n",
       "      <td>110001</td>\n",
       "      <td>4</td>\n",
       "      <td>0</td>\n",
       "    </tr>\n",
       "    <tr>\n",
       "      <th>4</th>\n",
       "      <td>2007</td>\n",
       "      <td>110001</td>\n",
       "      <td>2</td>\n",
       "      <td>0</td>\n",
       "    </tr>\n",
       "    <tr>\n",
       "      <th>...</th>\n",
       "      <td>...</td>\n",
       "      <td>...</td>\n",
       "      <td>...</td>\n",
       "      <td>...</td>\n",
       "    </tr>\n",
       "    <tr>\n",
       "      <th>389020</th>\n",
       "      <td>2021</td>\n",
       "      <td>432290</td>\n",
       "      <td></td>\n",
       "      <td>2</td>\n",
       "    </tr>\n",
       "    <tr>\n",
       "      <th>389021</th>\n",
       "      <td>2021</td>\n",
       "      <td>432290</td>\n",
       "      <td>1</td>\n",
       "      <td>0</td>\n",
       "    </tr>\n",
       "    <tr>\n",
       "      <th>389022</th>\n",
       "      <td>2021</td>\n",
       "      <td>432290</td>\n",
       "      <td>3</td>\n",
       "      <td>0</td>\n",
       "    </tr>\n",
       "    <tr>\n",
       "      <th>389023</th>\n",
       "      <td>2021</td>\n",
       "      <td>432290</td>\n",
       "      <td>4</td>\n",
       "      <td>0</td>\n",
       "    </tr>\n",
       "    <tr>\n",
       "      <th>389024</th>\n",
       "      <td>2021</td>\n",
       "      <td>432290</td>\n",
       "      <td>2</td>\n",
       "      <td>0</td>\n",
       "    </tr>\n",
       "  </tbody>\n",
       "</table>\n",
       "<p>389025 rows × 4 columns</p>\n",
       "</div>"
      ],
      "text/plain": [
       "        YEAR  ID_MUNICIP SEROTYPES  CASES\n",
       "0       2007      110001               46\n",
       "1       2007      110001         1      0\n",
       "2       2007      110001         3      0\n",
       "3       2007      110001         4      0\n",
       "4       2007      110001         2      0\n",
       "...      ...         ...       ...    ...\n",
       "389020  2021      432290                2\n",
       "389021  2021      432290         1      0\n",
       "389022  2021      432290         3      0\n",
       "389023  2021      432290         4      0\n",
       "389024  2021      432290         2      0\n",
       "\n",
       "[389025 rows x 4 columns]"
      ]
     },
     "execution_count": 36,
     "metadata": {},
     "output_type": "execute_result"
    }
   ],
   "source": [
    "df_total"
   ]
  },
  {
   "cell_type": "markdown",
   "id": "93b77dbd",
   "metadata": {},
   "source": [
    "## Cases, tests and ratio per municipality for serotype\n",
    "That is, percentage of positive cases that were tested for serotype 1,2,3 or 4. That is, **cases tested/total cases**."
   ]
  },
  {
   "cell_type": "code",
   "execution_count": 46,
   "id": "681aae49",
   "metadata": {},
   "outputs": [],
   "source": [
    "# total tests per municipality per year\n",
    "df_res = df_total.copy()\n",
    "filt_res = (df_res['SEROTYPES'] != ' ')\n",
    "df_res = df_res[filt_res]\n",
    "df_res = df_res.groupby(['YEAR','ID_MUNICIP'])['CASES'].sum()\n",
    "df_res = df_res.to_frame(name = 'TESTS').reset_index()\n",
    "df_tmp = df_total.copy()\n",
    "df_tmp = df_tmp.groupby(['YEAR','ID_MUNICIP'])['CASES'].sum()\n",
    "df_tmp = df_tmp.to_frame(name = 'CASES').reset_index()\n",
    "df_res['CASES'] = df_tmp['CASES']\n",
    "df_res['RATIO'] = df_res['TESTS']/df_res['CASES']"
   ]
  },
  {
   "cell_type": "code",
   "execution_count": 47,
   "id": "571e5576",
   "metadata": {},
   "outputs": [],
   "source": [
    "df_res = df_res.dropna()"
   ]
  },
  {
   "cell_type": "markdown",
   "id": "cbb235a3",
   "metadata": {},
   "source": [
    "## Percentage of tests per municipality for serotype\n",
    "That is, percentage of positive cases that were tested for serotype 1,2,3 or 4. That is, **cases tested/total cases**."
   ]
  },
  {
   "cell_type": "code",
   "execution_count": 48,
   "id": "4b4c1ca9",
   "metadata": {},
   "outputs": [],
   "source": [
    "df_res_ratio = df_res.copy()\n",
    "df_res_ratio = df_res_ratio.drop(columns = ['TESTS','CASES'])\n",
    "df_res_ratio = df_res_ratio.pivot(index='YEAR', columns='ID_MUNICIP').droplevel(0, axis=1)"
   ]
  },
  {
   "cell_type": "code",
   "execution_count": 49,
   "id": "c0f580da",
   "metadata": {},
   "outputs": [],
   "source": [
    "df_stats_ratio = pd.DataFrame()\n",
    "df_stats_ratio['MEAN'] = df_res_ratio.mean(axis = 0)\n",
    "df_stats_ratio['STD'] = df_res_ratio.std(axis = 0)\n",
    "df_stats_ratio['STD/MEAN'] = df_res_ratio.std(axis = 0)/df_res_ratio.mean(axis = 0)\n",
    "df_stats_ratio['MAX'] = df_res_ratio.max(axis = 0)\n",
    "df_stats_ratio['MIN'] = df_res_ratio.min(axis = 0)"
   ]
  },
  {
   "cell_type": "code",
   "execution_count": 51,
   "id": "1e5ec1bb",
   "metadata": {},
   "outputs": [],
   "source": [
    "df_stats_ratio = df_stats_ratio.dropna()"
   ]
  },
  {
   "cell_type": "code",
   "execution_count": 52,
   "id": "6d12f3ac",
   "metadata": {},
   "outputs": [
    {
     "data": {
      "text/html": [
       "<div>\n",
       "<style scoped>\n",
       "    .dataframe tbody tr th:only-of-type {\n",
       "        vertical-align: middle;\n",
       "    }\n",
       "\n",
       "    .dataframe tbody tr th {\n",
       "        vertical-align: top;\n",
       "    }\n",
       "\n",
       "    .dataframe thead th {\n",
       "        text-align: right;\n",
       "    }\n",
       "</style>\n",
       "<table border=\"1\" class=\"dataframe\">\n",
       "  <thead>\n",
       "    <tr style=\"text-align: right;\">\n",
       "      <th></th>\n",
       "      <th>MEAN</th>\n",
       "      <th>STD</th>\n",
       "      <th>STD/MEAN</th>\n",
       "      <th>MAX</th>\n",
       "      <th>MIN</th>\n",
       "    </tr>\n",
       "    <tr>\n",
       "      <th>ID_MUNICIP</th>\n",
       "      <th></th>\n",
       "      <th></th>\n",
       "      <th></th>\n",
       "      <th></th>\n",
       "      <th></th>\n",
       "    </tr>\n",
       "  </thead>\n",
       "  <tbody>\n",
       "    <tr>\n",
       "      <th>355030</th>\n",
       "      <td>0.005233</td>\n",
       "      <td>0.003341</td>\n",
       "      <td>0.638394</td>\n",
       "      <td>0.010955</td>\n",
       "      <td>0.000000</td>\n",
       "    </tr>\n",
       "    <tr>\n",
       "      <th>520870</th>\n",
       "      <td>0.010736</td>\n",
       "      <td>0.007660</td>\n",
       "      <td>0.713432</td>\n",
       "      <td>0.028322</td>\n",
       "      <td>0.001675</td>\n",
       "    </tr>\n",
       "    <tr>\n",
       "      <th>251610</th>\n",
       "      <td>0.291667</td>\n",
       "      <td>0.209718</td>\n",
       "      <td>0.719032</td>\n",
       "      <td>0.500000</td>\n",
       "      <td>0.000000</td>\n",
       "    </tr>\n",
       "    <tr>\n",
       "      <th>410740</th>\n",
       "      <td>0.208333</td>\n",
       "      <td>0.159571</td>\n",
       "      <td>0.765942</td>\n",
       "      <td>0.333333</td>\n",
       "      <td>0.000000</td>\n",
       "    </tr>\n",
       "    <tr>\n",
       "      <th>412850</th>\n",
       "      <td>0.202381</td>\n",
       "      <td>0.162068</td>\n",
       "      <td>0.800807</td>\n",
       "      <td>0.333333</td>\n",
       "      <td>0.000000</td>\n",
       "    </tr>\n",
       "    <tr>\n",
       "      <th>...</th>\n",
       "      <td>...</td>\n",
       "      <td>...</td>\n",
       "      <td>...</td>\n",
       "      <td>...</td>\n",
       "      <td>...</td>\n",
       "    </tr>\n",
       "    <tr>\n",
       "      <th>110010</th>\n",
       "      <td>0.000300</td>\n",
       "      <td>0.001163</td>\n",
       "      <td>3.872983</td>\n",
       "      <td>0.004505</td>\n",
       "      <td>0.000000</td>\n",
       "    </tr>\n",
       "    <tr>\n",
       "      <th>520490</th>\n",
       "      <td>0.000080</td>\n",
       "      <td>0.000311</td>\n",
       "      <td>3.872983</td>\n",
       "      <td>0.001206</td>\n",
       "      <td>0.000000</td>\n",
       "    </tr>\n",
       "    <tr>\n",
       "      <th>261080</th>\n",
       "      <td>0.001515</td>\n",
       "      <td>0.005868</td>\n",
       "      <td>3.872983</td>\n",
       "      <td>0.022727</td>\n",
       "      <td>0.000000</td>\n",
       "    </tr>\n",
       "    <tr>\n",
       "      <th>510794</th>\n",
       "      <td>0.005333</td>\n",
       "      <td>0.020656</td>\n",
       "      <td>3.872983</td>\n",
       "      <td>0.080000</td>\n",
       "      <td>0.000000</td>\n",
       "    </tr>\n",
       "    <tr>\n",
       "      <th>260080</th>\n",
       "      <td>0.002526</td>\n",
       "      <td>0.009783</td>\n",
       "      <td>3.872983</td>\n",
       "      <td>0.037891</td>\n",
       "      <td>0.000000</td>\n",
       "    </tr>\n",
       "  </tbody>\n",
       "</table>\n",
       "<p>3024 rows × 5 columns</p>\n",
       "</div>"
      ],
      "text/plain": [
       "                MEAN       STD  STD/MEAN       MAX       MIN\n",
       "ID_MUNICIP                                                  \n",
       "355030      0.005233  0.003341  0.638394  0.010955  0.000000\n",
       "520870      0.010736  0.007660  0.713432  0.028322  0.001675\n",
       "251610      0.291667  0.209718  0.719032  0.500000  0.000000\n",
       "410740      0.208333  0.159571  0.765942  0.333333  0.000000\n",
       "412850      0.202381  0.162068  0.800807  0.333333  0.000000\n",
       "...              ...       ...       ...       ...       ...\n",
       "110010      0.000300  0.001163  3.872983  0.004505  0.000000\n",
       "520490      0.000080  0.000311  3.872983  0.001206  0.000000\n",
       "261080      0.001515  0.005868  3.872983  0.022727  0.000000\n",
       "510794      0.005333  0.020656  3.872983  0.080000  0.000000\n",
       "260080      0.002526  0.009783  3.872983  0.037891  0.000000\n",
       "\n",
       "[3024 rows x 5 columns]"
      ]
     },
     "execution_count": 52,
     "metadata": {},
     "output_type": "execute_result"
    }
   ],
   "source": [
    "df_stats_ratio.sort_values(['STD/MEAN'],ascending = [True])"
   ]
  },
  {
   "cell_type": "markdown",
   "id": "4d6f75cd",
   "metadata": {},
   "source": [
    "## Saving because this takes a lot to process"
   ]
  },
  {
   "cell_type": "code",
   "execution_count": 54,
   "id": "4020496b",
   "metadata": {},
   "outputs": [],
   "source": [
    "df_stats_ratio.to_csv('../Data/dengue_municipality_tests.csv',index=False)"
   ]
  },
  {
   "cell_type": "code",
   "execution_count": null,
   "id": "2c7f592c",
   "metadata": {},
   "outputs": [],
   "source": []
  },
  {
   "cell_type": "code",
   "execution_count": null,
   "id": "fe287761",
   "metadata": {},
   "outputs": [],
   "source": []
  },
  {
   "cell_type": "code",
   "execution_count": null,
   "id": "7557801a",
   "metadata": {},
   "outputs": [],
   "source": []
  },
  {
   "cell_type": "code",
   "execution_count": null,
   "id": "b380f68d",
   "metadata": {},
   "outputs": [],
   "source": []
  }
 ],
 "metadata": {
  "kernelspec": {
   "display_name": "Python 3 (ipykernel)",
   "language": "python",
   "name": "python3"
  },
  "language_info": {
   "codemirror_mode": {
    "name": "ipython",
    "version": 3
   },
   "file_extension": ".py",
   "mimetype": "text/x-python",
   "name": "python",
   "nbconvert_exporter": "python",
   "pygments_lexer": "ipython3",
   "version": "3.10.9"
  }
 },
 "nbformat": 4,
 "nbformat_minor": 5
}
